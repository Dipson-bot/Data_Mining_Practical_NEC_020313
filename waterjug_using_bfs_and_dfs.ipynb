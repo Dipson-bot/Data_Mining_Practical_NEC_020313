{
  "nbformat": 4,
  "nbformat_minor": 0,
  "metadata": {
    "colab": {
      "provenance": [],
      "authorship_tag": "ABX9TyPf3PT/3t2Jd4ziBY40hS7q",
      "include_colab_link": true
    },
    "kernelspec": {
      "name": "python3",
      "display_name": "Python 3"
    },
    "language_info": {
      "name": "python"
    }
  },
  "cells": [
    {
      "cell_type": "markdown",
      "metadata": {
        "id": "view-in-github",
        "colab_type": "text"
      },
      "source": [
        "<a href=\"https://colab.research.google.com/github/Dipson-bot/Data_Mining_Practical_NEC_020313/blob/main/waterjug_using_bfs_and_dfs.ipynb\" target=\"_parent\"><img src=\"https://colab.research.google.com/assets/colab-badge.svg\" alt=\"Open In Colab\"/></a>"
      ]
    },
    {
      "cell_type": "code",
      "execution_count": 3,
      "metadata": {
        "id": "VsnyxijAcerL",
        "colab": {
          "base_uri": "https://localhost:8080/"
        },
        "outputId": "d3cc8227-7963-40df-99fc-816edca4da98"
      },
      "outputs": [
        {
          "output_type": "stream",
          "name": "stdout",
          "text": [
            "Choose method to find goal state (1 for BFS, 2 for DFS): 2\n",
            "Goal found using DFS, path: [(0, 0), (0, 3), (3, 0), (3, 3), (4, 2), (0, 2), (2, 0)]\n"
          ]
        }
      ],
      "source": [
        "from collections import deque\n",
        "\n",
        "class WaterJug:\n",
        "    def __init__(self, initial_state=(0, 0), goal_state=(2, 0)):\n",
        "        # Define the initial and goal states\n",
        "        self.initial_state = initial_state  # Initial state: (0, 0)\n",
        "        self.goal_state = goal_state  # Goal state: (2, 0)\n",
        "\n",
        "    def successors(self, state):\n",
        "        X, Y = state\n",
        "        succ = []\n",
        "\n",
        "        # Action 1: Fill Jug X\n",
        "        if X < 4:\n",
        "            succ.append((4, Y))\n",
        "\n",
        "        # Action 2: Fill Jug Y\n",
        "        if Y < 3:\n",
        "            succ.append((X, 3))\n",
        "\n",
        "        # Action 3: Empty Jug X\n",
        "        if X > 0:\n",
        "            succ.append((0, Y))\n",
        "\n",
        "        # Action 4: Empty Jug Y\n",
        "        if Y > 0:\n",
        "            succ.append((X, 0))\n",
        "\n",
        "        # Action 5: Pour from X to Y\n",
        "        if X > 0 and Y < 3:\n",
        "            transfer = min(X, 3 - Y)\n",
        "            succ.append((X - transfer, Y + transfer))\n",
        "\n",
        "        # Action 6: Pour from Y to X\n",
        "        if Y > 0 and X < 4:\n",
        "            transfer = min(Y, 4 - X)\n",
        "            succ.append((X + transfer, Y - transfer))\n",
        "\n",
        "        return succ\n",
        "\n",
        "    def xbfs(self, initial_state, goal_state):\n",
        "        open_queue = deque([initial_state])  # Queue of states to explore\n",
        "        closed_set = set()  # Set of explored states\n",
        "        predecessor_map = {initial_state: None}  # Map to track predecessors\n",
        "\n",
        "        while open_queue:\n",
        "            # Step 1: Pop from OPEN and add it to CLOSED\n",
        "            current_state = open_queue.popleft()\n",
        "            closed_set.add(current_state)\n",
        "\n",
        "            # Step 2: Goal test\n",
        "            if current_state == goal_state:\n",
        "                # Goal found, reconstruct path\n",
        "                return self.reconstruct_path(predecessor_map, current_state)\n",
        "\n",
        "            # Step 3: Generate successors and add to OPEN if not in OPEN or CLOSED\n",
        "            for succ in self.successors(current_state):\n",
        "                if succ not in closed_set and succ not in open_queue:\n",
        "                    open_queue.append(succ)\n",
        "                    predecessor_map[succ] = current_state  # Record the predecessor\n",
        "\n",
        "        return None\n",
        "\n",
        "    def xdfs(self, initial_state, goal_state):\n",
        "        open_stack = [initial_state]  # Stack of states to explore\n",
        "        closed_set = set()  # Set of explored states\n",
        "        predecessor_map = {initial_state: None}  # Map to track predecessors\n",
        "\n",
        "        while open_stack:\n",
        "            # Step 1: Pop from OPEN\n",
        "            current_state = open_stack.pop()\n",
        "\n",
        "            # Step 2: Goal test\n",
        "            if current_state == goal_state:\n",
        "                # Goal found, reconstruct path\n",
        "                return self.reconstruct_path(predecessor_map, current_state)\n",
        "\n",
        "            # Step 3: Add to CLOSED if not already explored\n",
        "            if current_state not in closed_set:\n",
        "                closed_set.add(current_state)\n",
        "\n",
        "                # Generate successors and add to OPEN if not in OPEN or CLOSED\n",
        "                for succ in self.successors(current_state):\n",
        "                    if succ not in closed_set and succ not in open_stack:\n",
        "                        open_stack.append(succ)\n",
        "                        predecessor_map[succ] = current_state  # Record the predecessor\n",
        "\n",
        "        return None\n",
        "\n",
        "    def reconstruct_path(self, predecessor_map, goal_state):\n",
        "        path = []\n",
        "        current_state = goal_state\n",
        "        while current_state is not None:\n",
        "            path.append(current_state)\n",
        "            current_state = predecessor_map[current_state]\n",
        "        path.reverse()  # Reverse to get the path from start to goal\n",
        "        return path\n",
        "\n",
        "    def run(self):\n",
        "        # Prompt user for method choice\n",
        "        choice = input(\"Choose method to find goal state (1 for BFS, 2 for DFS): \").strip()\n",
        "        if choice == \"1\":\n",
        "            path = self.xbfs(self.initial_state, self.goal_state)\n",
        "            method = \"BFS\"\n",
        "        elif choice == \"2\":\n",
        "            path = self.xdfs(self.initial_state, self.goal_state)\n",
        "            method = \"DFS\"\n",
        "        else:\n",
        "            print(\"Invalid choice. Please choose 1 or 2.\")\n",
        "            return\n",
        "\n",
        "        if path is None:\n",
        "            print(f\"Goal not found using {method}.\")\n",
        "        else:\n",
        "            print(f\"Goal found using {method}, path: {path}\")\n",
        "\n",
        "# Create an instance of the WaterJug class and run it\n",
        "sol = WaterJug()\n",
        "sol.run()\n"
      ]
    },
    {
      "cell_type": "markdown",
      "source": [],
      "metadata": {
        "id": "BALCddw8e_PX"
      }
    }
  ]
}